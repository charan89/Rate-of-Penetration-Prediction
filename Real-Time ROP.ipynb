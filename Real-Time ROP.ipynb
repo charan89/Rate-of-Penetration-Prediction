{
 "cells": [
  {
   "cell_type": "code",
   "execution_count": 2,
   "metadata": {},
   "outputs": [
    {
     "name": "stdout",
     "output_type": "stream",
     "text": [
      "Enter hole depth(ft):55\n",
      "Hook load(Klbs):55\n",
      "Rotary RPM:33\n",
      "Rotary Torque(klbs-ft):66\n",
      "Weight on bit(Klbs):33\n",
      "Diff. Pressure(psi):11\n",
      "Gamma at bit(gAPI):33\n",
      "\n",
      "\u001b[91m Rate of Penetration is :79.27ft/hr\n"
     ]
    }
   ],
   "source": [
    "import rop\n",
    "print(rop.rop_calc())"
   ]
  }
 ],
 "metadata": {
  "kernelspec": {
   "display_name": "Python 3",
   "language": "python",
   "name": "python3"
  },
  "language_info": {
   "codemirror_mode": {
    "name": "ipython",
    "version": 3
   },
   "file_extension": ".py",
   "mimetype": "text/x-python",
   "name": "python",
   "nbconvert_exporter": "python",
   "pygments_lexer": "ipython3",
   "version": "3.7.4"
  }
 },
 "nbformat": 4,
 "nbformat_minor": 4
}
